{
 "cells": [
  {
   "cell_type": "markdown",
   "metadata": {},
   "source": [
    "# Principal Component Analysis in scikit-learn\n",
    "\n",
    "## Introduction\n",
    "\n",
    "Now that you've seen the curse of dimensionality, it's time to take a look at a dimensionality reduction technique! This will help you overcome the challenges of the curse of dimensionality (amongst other things). Essentially, PCA, or Principal Component Analysis, attempts to capture as much information from the dataset as possible while reducing the overall number of features.\n",
    "\n",
    "## Objectives\n",
    "\n",
    "You will be able to:\n",
    "\n",
    "- Explain at a high level how PCA works \n",
    "- Explain use cases for PCA \n",
    "- Implement PCA using the scikit-learn library \n",
    "- Determine the optimal number of n components when performing PCA by observing the explained variance \n",
    "\n",
    "\n",
    "## Generate some data\n",
    "\n",
    "First, you need some data to perform PCA on. With that, here's a quick dataset you can generate using NumPy:"
   ]
  },
  {
   "cell_type": "code",
   "execution_count": 1,
   "metadata": {},
   "outputs": [],
   "source": [
    "import numpy as np\n",
    "\n",
    "x1 = np.linspace(-10, 10, 100)\n",
    "# A linear relationship, plus a little noise\n",
    "x2 = np.array([xi*2 + np.random.normal(loc=0, scale=0.5) for xi in x1]) \n",
    "\n",
    "X = np.matrix(list(zip(x1, x2)))"
   ]
  },
  {
   "cell_type": "code",
   "execution_count": 5,
   "metadata": {
    "collapsed": true
   },
   "outputs": [
    {
     "data": {
      "text/plain": [
       "matrix([[-1.00000000e+01, -2.00751265e+01],\n",
       "        [-9.79797980e+00, -1.88108135e+01],\n",
       "        [-9.59595960e+00, -1.92860109e+01],\n",
       "        [-9.39393939e+00, -1.89932786e+01],\n",
       "        [-9.19191919e+00, -1.74398066e+01],\n",
       "        [-8.98989899e+00, -1.78430085e+01],\n",
       "        [-8.78787879e+00, -1.74708391e+01],\n",
       "        [-8.58585859e+00, -1.69522372e+01],\n",
       "        [-8.38383838e+00, -1.71808138e+01],\n",
       "        [-8.18181818e+00, -1.67328431e+01],\n",
       "        [-7.97979798e+00, -1.59747548e+01],\n",
       "        [-7.77777778e+00, -1.56119314e+01],\n",
       "        [-7.57575758e+00, -1.50244862e+01],\n",
       "        [-7.37373737e+00, -1.44193318e+01],\n",
       "        [-7.17171717e+00, -1.51482086e+01],\n",
       "        [-6.96969697e+00, -1.37419304e+01],\n",
       "        [-6.76767677e+00, -1.42711530e+01],\n",
       "        [-6.56565657e+00, -1.35555780e+01],\n",
       "        [-6.36363636e+00, -1.30092604e+01],\n",
       "        [-6.16161616e+00, -1.15886460e+01],\n",
       "        [-5.95959596e+00, -1.19803080e+01],\n",
       "        [-5.75757576e+00, -1.16383714e+01],\n",
       "        [-5.55555556e+00, -1.10300499e+01],\n",
       "        [-5.35353535e+00, -1.00357052e+01],\n",
       "        [-5.15151515e+00, -1.00850451e+01],\n",
       "        [-4.94949495e+00, -1.08991201e+01],\n",
       "        [-4.74747475e+00, -8.75442697e+00],\n",
       "        [-4.54545455e+00, -9.90157978e+00],\n",
       "        [-4.34343434e+00, -8.73406422e+00],\n",
       "        [-4.14141414e+00, -8.26793184e+00],\n",
       "        [-3.93939394e+00, -7.91616151e+00],\n",
       "        [-3.73737374e+00, -8.60376576e+00],\n",
       "        [-3.53535354e+00, -8.33380971e+00],\n",
       "        [-3.33333333e+00, -6.62132906e+00],\n",
       "        [-3.13131313e+00, -5.97998709e+00],\n",
       "        [-2.92929293e+00, -5.80769803e+00],\n",
       "        [-2.72727273e+00, -5.47615507e+00],\n",
       "        [-2.52525253e+00, -5.10699729e+00],\n",
       "        [-2.32323232e+00, -5.13805835e+00],\n",
       "        [-2.12121212e+00, -4.04233520e+00],\n",
       "        [-1.91919192e+00, -3.62281103e+00],\n",
       "        [-1.71717172e+00, -2.80825153e+00],\n",
       "        [-1.51515152e+00, -2.45765959e+00],\n",
       "        [-1.31313131e+00, -3.08494131e+00],\n",
       "        [-1.11111111e+00, -2.00942159e+00],\n",
       "        [-9.09090909e-01, -2.33563984e+00],\n",
       "        [-7.07070707e-01, -9.37905875e-01],\n",
       "        [-5.05050505e-01, -3.30048088e-01],\n",
       "        [-3.03030303e-01, -8.20320112e-01],\n",
       "        [-1.01010101e-01, -1.47640681e-01],\n",
       "        [ 1.01010101e-01,  2.49677233e-01],\n",
       "        [ 3.03030303e-01,  1.63413774e-02],\n",
       "        [ 5.05050505e-01,  9.92342574e-01],\n",
       "        [ 7.07070707e-01,  9.77393281e-01],\n",
       "        [ 9.09090909e-01,  1.41415999e+00],\n",
       "        [ 1.11111111e+00,  1.31328052e+00],\n",
       "        [ 1.31313131e+00,  2.67933796e+00],\n",
       "        [ 1.51515152e+00,  2.26756211e+00],\n",
       "        [ 1.71717172e+00,  4.68915719e+00],\n",
       "        [ 1.91919192e+00,  3.82013416e+00],\n",
       "        [ 2.12121212e+00,  3.48619062e+00],\n",
       "        [ 2.32323232e+00,  4.71461726e+00],\n",
       "        [ 2.52525253e+00,  4.56690501e+00],\n",
       "        [ 2.72727273e+00,  5.65681632e+00],\n",
       "        [ 2.92929293e+00,  6.06617107e+00],\n",
       "        [ 3.13131313e+00,  6.33420406e+00],\n",
       "        [ 3.33333333e+00,  6.71703833e+00],\n",
       "        [ 3.53535354e+00,  6.64456477e+00],\n",
       "        [ 3.73737374e+00,  8.07795037e+00],\n",
       "        [ 3.93939394e+00,  7.71136539e+00],\n",
       "        [ 4.14141414e+00,  8.57954274e+00],\n",
       "        [ 4.34343434e+00,  7.89035104e+00],\n",
       "        [ 4.54545455e+00,  1.02356819e+01],\n",
       "        [ 4.74747475e+00,  9.43215823e+00],\n",
       "        [ 4.94949495e+00,  1.03994608e+01],\n",
       "        [ 5.15151515e+00,  1.03945546e+01],\n",
       "        [ 5.35353535e+00,  1.07592743e+01],\n",
       "        [ 5.55555556e+00,  1.22307198e+01],\n",
       "        [ 5.75757576e+00,  1.11690206e+01],\n",
       "        [ 5.95959596e+00,  1.15351774e+01],\n",
       "        [ 6.16161616e+00,  1.24972580e+01],\n",
       "        [ 6.36363636e+00,  1.31476887e+01],\n",
       "        [ 6.56565657e+00,  1.31418304e+01],\n",
       "        [ 6.76767677e+00,  1.31597555e+01],\n",
       "        [ 6.96969697e+00,  1.36125519e+01],\n",
       "        [ 7.17171717e+00,  1.40547101e+01],\n",
       "        [ 7.37373737e+00,  1.43543417e+01],\n",
       "        [ 7.57575758e+00,  1.46868786e+01],\n",
       "        [ 7.77777778e+00,  1.55574572e+01],\n",
       "        [ 7.97979798e+00,  1.67431989e+01],\n",
       "        [ 8.18181818e+00,  1.62881811e+01],\n",
       "        [ 8.38383838e+00,  1.74678993e+01],\n",
       "        [ 8.58585859e+00,  1.72825317e+01],\n",
       "        [ 8.78787879e+00,  1.69769865e+01],\n",
       "        [ 8.98989899e+00,  1.87063284e+01],\n",
       "        [ 9.19191919e+00,  1.81228758e+01],\n",
       "        [ 9.39393939e+00,  1.96581619e+01],\n",
       "        [ 9.59595960e+00,  1.81536903e+01],\n",
       "        [ 9.79797980e+00,  1.95602689e+01],\n",
       "        [ 1.00000000e+01,  1.97289559e+01]])"
      ]
     },
     "execution_count": 5,
     "metadata": {},
     "output_type": "execute_result"
    }
   ],
   "source": [
    "X"
   ]
  },
  {
   "cell_type": "markdown",
   "metadata": {},
   "source": [
    "Let's also generate a quick plot of this simple dataset to further orient ourselves:"
   ]
  },
  {
   "cell_type": "code",
   "execution_count": 2,
   "metadata": {},
   "outputs": [
    {
     "data": {
      "image/png": "[encoded data removed]",
      "text/plain": [
       "<Figure size 432x288 with 1 Axes>"
      ]
     },
     "metadata": {},
     "output_type": "display_data"
    }
   ],
   "source": [
    "import matplotlib.pyplot as plt\n",
    "import seaborn as sns\n",
    "%matplotlib inline\n",
    "\n",
    "sns.set_style('darkgrid')\n",
    "\n",
    "plt.scatter(x1, x2);"
   ]
  },
  {
   "cell_type": "markdown",
   "metadata": {},
   "source": [
    "## PCA with scikit-learn\n",
    "\n",
    "Now onto PCA. First, take a look at how simple it is to implement PCA with scikit-learn:"
   ]
  },
  {
   "cell_type": "code",
   "execution_count": 3,
   "metadata": {},
   "outputs": [],
   "source": [
    "from sklearn.decomposition import PCA\n",
    "\n",
    "pca = PCA()\n",
    "transformed = pca.fit_transform(X)"
   ]
  },
  {
   "cell_type": "code",
   "execution_count": 6,
   "metadata": {
    "collapsed": true
   },
   "outputs": [
    {
     "data": {
      "text/plain": [
       "array([[ 2.24089717e+01, -1.50145924e-03],\n",
       "       [ 2.11874016e+01,  3.81990290e-01],\n",
       "       [ 2.15224819e+01, -1.08785111e-02],\n",
       "       [ 2.11703585e+01, -6.10127531e-02],\n",
       "       [ 1.96900261e+01,  4.51533487e-01],\n",
       "       [ 1.99606793e+01,  9.07969760e-02],\n",
       "       [ 1.95374693e+01,  7.61163027e-02],\n",
       "       [ 1.89832200e+01,  1.26789854e-01],\n",
       "       [ 1.90976047e+01, -1.56009657e-01],\n",
       "       [ 1.86065617e+01, -1.36859456e-01],\n",
       "       [ 1.78380012e+01,  2.06992144e-02],\n",
       "       [ 1.74231547e+01,  1.84732182e-03],\n",
       "       [ 1.68072991e+01,  8.32463065e-02],\n",
       "       [ 1.61755958e+01,  1.72549104e-01],\n",
       "       [ 1.67376883e+01, -3.33539258e-01],\n",
       "       [ 1.53890766e+01,  1.13312918e-01],\n",
       "       [ 1.57725030e+01, -3.03667840e-01],\n",
       "       [ 1.50419867e+01, -1.65083246e-01],\n",
       "       [ 1.44629352e+01, -1.02039872e-01],\n",
       "       [ 1.31014943e+01,  3.51210686e-01],\n",
       "       [ 1.33618206e+01, -4.37545175e-03],\n",
       "       [ 1.29656653e+01, -3.25493066e-02],\n",
       "       [ 1.23311278e+01,  5.81670075e-02],\n",
       "       [ 1.13511466e+01,  3.21169218e-01],\n",
       "       [ 1.13051362e+01,  1.18364808e-01],\n",
       "       [ 1.19434708e+01, -4.25748393e-01],\n",
       "       [ 9.93406739e+00,  3.50665639e-01],\n",
       "       [ 1.08704662e+01, -3.42103439e-01],\n",
       "       [ 9.73551801e+00, -1.81334336e-03],\n",
       "       [ 9.22822256e+00,  2.54425642e-02],\n",
       "       [ 8.82326725e+00,  1.65757086e-03],\n",
       "       [ 9.34842593e+00, -4.86010485e-01],\n",
       "       [ 9.01668446e+00, -5.46309991e-01],\n",
       "       [ 7.39405872e+00,  3.72033579e-02],\n",
       "       [ 6.72997197e+00,  1.42657024e-01],\n",
       "       [ 6.48563059e+00,  3.87677819e-02],\n",
       "       [ 6.09877632e+00,  5.95511358e-03],\n",
       "       [ 5.67826137e+00, -1.00696944e-02],\n",
       "       [ 5.61589364e+00, -2.04716088e-01],\n",
       "       [ 4.54519093e+00,  1.03532352e-01],\n",
       "       [ 4.07960417e+00,  1.09986559e-01],\n",
       "       [ 3.26050878e+00,  2.92748903e-01],\n",
       "       [ 2.85660799e+00,  2.68437980e-01],\n",
       "       [ 3.32778533e+00, -1.92307536e-01],\n",
       "       [ 2.27516224e+00,  1.06923914e-01],\n",
       "       [ 2.47692435e+00, -2.19454027e-01],\n",
       "       [ 1.13595865e+00,  2.23584796e-01],\n",
       "       [ 5.01836180e-01,  3.14094143e-01],\n",
       "       [ 8.50406487e-01, -8.55026039e-02],\n",
       "       [ 1.58276519e-01,  3.39372769e-02],\n",
       "       [-2.87438343e-01,  3.04806151e-02],\n",
       "       [-1.68794694e-01, -2.54443003e-01],\n",
       "       [-1.13236080e+00,  3.72354344e-04],\n",
       "       [-1.20914659e+00, -1.87083201e-01],\n",
       "       [-1.69016333e+00, -1.72933479e-01],\n",
       "       [-1.69005205e+00, -3.98740516e-01],\n",
       "       [-3.00267111e+00,  3.01607644e-02],\n",
       "       [-2.72434534e+00, -3.34402372e-01],\n",
       "       [-4.98154236e+00,  5.65595701e-01],\n",
       "       [-4.29403591e+00, -3.04133307e-03],\n",
       "       [-4.08536061e+00, -3.32867144e-01],\n",
       "       [-5.27481681e+00,  3.46081593e-02],\n",
       "       [-5.23279589e+00, -2.12100803e-01],\n",
       "       [-6.29829771e+00,  9.35537528e-02],\n",
       "       [-6.75478407e+00,  9.54692479e-02],\n",
       "       [-7.08480464e+00,  3.43114595e-02],\n",
       "       [-7.51755840e+00,  2.43906063e-02],\n",
       "       [-7.54286696e+00, -1.88738594e-01],\n",
       "       [-8.91573654e+00,  2.70211904e-01],\n",
       "       [-8.67785111e+00, -7.41821057e-02],\n",
       "       [-9.54492796e+00,  1.32510412e-01],\n",
       "       [-9.01834871e+00, -3.55866133e-01],\n",
       "       [-1.12072985e+01,  5.10094456e-01],\n",
       "       [-1.05784060e+01, -2.93095575e-02],\n",
       "       [-1.15341879e+01,  2.21623500e-01],\n",
       "       [-1.16199611e+01,  3.86502914e-02],\n",
       "       [-1.20365044e+01,  2.06447061e-02],\n",
       "       [-1.34434331e+01,  4.96581744e-01],\n",
       "       [-1.25835048e+01, -1.58048576e-01],\n",
       "       [-1.30013343e+01, -1.75412747e-01],\n",
       "       [-1.39524431e+01,  7.31897002e-02],\n",
       "       [-1.46246632e+01,  1.82699758e-01],\n",
       "       [-1.47095843e+01, -6.98388541e-04],\n",
       "       [-1.48157887e+01, -1.73481781e-01],\n",
       "       [-1.53111501e+01, -1.52177851e-01],\n",
       "       [-1.57969915e+01, -1.35621861e-01],\n",
       "       [-1.61552890e+01, -1.82676878e-01],\n",
       "       [-1.65430328e+01, -2.15045927e-01],\n",
       "       [-1.74122585e+01, -7.28169372e-03],\n",
       "       [-1.85635168e+01,  3.41142887e-01],\n",
       "       [-1.82464947e+01, -4.27195620e-02],\n",
       "       [-1.93923628e+01,  3.03016706e-01],\n",
       "       [-1.93166450e+01,  3.95017962e-02],\n",
       "       [-1.91333827e+01, -2.77649581e-01],\n",
       "       [-2.07710972e+01,  3.13389106e-01],\n",
       "       [-2.03391416e+01, -1.27795027e-01],\n",
       "       [-2.18031997e+01,  3.76634652e-01],\n",
       "       [-2.05470440e+01, -4.75609292e-01],\n",
       "       [-2.18959246e+01, -2.86230247e-02],\n",
       "       [-2.21370426e+01, -1.34119908e-01]])"
      ]
     },
     "execution_count": 6,
     "metadata": {},
     "output_type": "execute_result"
    }
   ],
   "source": [
    "transformed"
   ]
  },
  {
   "cell_type": "markdown",
   "metadata": {},
   "source": [
    "And you can once again plot the updated dataset:"
   ]
  },
  {
   "cell_type": "code",
   "execution_count": 4,
   "metadata": {},
   "outputs": [
    {
     "data": {
      "image/png": "[encoded data removed]",
      "text/plain": [
       "<Figure size 432x288 with 1 Axes>"
      ]
     },
     "metadata": {
      "needs_background": "light"
     },
     "output_type": "display_data"
    }
   ],
   "source": [
    "plt.scatter(transformed[:,0], transformed[:,1]);"
   ]
  },
  {
   "cell_type": "code",
   "execution_count": 7,
   "metadata": {},
   "outputs": [
    {
     "data": {
      "text/plain": [
       "array([[-0.4463098 , -0.89487852],\n",
       "       [-0.89487852,  0.4463098 ]])"
      ]
     },
     "execution_count": 7,
     "metadata": {},
     "output_type": "execute_result"
    }
   ],
   "source": [
    "pca.components_"
   ]
  },
  {
   "cell_type": "code",
   "execution_count": 8,
   "metadata": {},
   "outputs": [
    {
     "data": {
      "text/plain": [
       "array([ 7.10542736e-17, -2.11489635e-02])"
      ]
     },
     "execution_count": 8,
     "metadata": {},
     "output_type": "execute_result"
    }
   ],
   "source": [
    "pca.mean_"
   ]
  },
  {
   "cell_type": "markdown",
   "metadata": {},
   "source": [
    "## Interpret Results\n",
    "\n",
    "Let's take a look at what went on here. PCA transforms the dataset along principal axes. The first of these axes is designed to capture the maximum variance within the data. From here, additional axes are constructed which are orthogonal to the previous axes and continue to account for as much of the remaining variance as possible.\n",
    "\n",
    "For the current 2-d case, the axes which the data were projected onto look like this:"
   ]
  },
  {
   "cell_type": "code",
   "execution_count": 9,
   "metadata": {},
   "outputs": [
    {
     "data": {
      "image/png": "[encoded data removed]",
      "text/plain": [
       "<Figure size 432x288 with 1 Axes>"
      ]
     },
     "metadata": {
      "needs_background": "light"
     },
     "output_type": "display_data"
    }
   ],
   "source": [
    "plt.scatter(x1, x2);\n",
    "ax1, ay1 = pca.mean_[0], pca.mean_[1]\n",
    "ax2, ay2 = pca.mean_[0] + pca.components_[0][0], pca.mean_[1] + pca.components_[0][1]\n",
    "ax3, ay3 = pca.mean_[0] + pca.components_[1][0], pca.mean_[1] + pca.components_[1][1]\n",
    "plt.plot([ax1, ax2], [ay1, ay2], color='red')\n",
    "plt.plot([ax2, ax3], [ay2, ay3], color='red');"
   ]
  },
  {
   "cell_type": "markdown",
   "metadata": {},
   "source": [
    "So, the updated graph you saw is the same dataset rotated onto these red axes:"
   ]
  },
  {
   "cell_type": "code",
   "execution_count": 8,
   "metadata": {},
   "outputs": [
    {
     "data": {
      "image/png": "[encoded data removed]",
      "text/plain": [
       "<Figure size 432x288 with 1 Axes>"
      ]
     },
     "metadata": {
      "needs_background": "light"
     },
     "output_type": "display_data"
    }
   ],
   "source": [
    "plt.scatter(transformed[:,0], transformed[:,1])\n",
    "plt.axhline(color='red')\n",
    "plt.axvline(color='red');"
   ]
  },
  {
   "cell_type": "markdown",
   "metadata": {},
   "source": [
    "Note the small scale of the y-axis. You can also plot the transformed dataset on the new axes with a scale similar to what you saw before:"
   ]
  },
  {
   "cell_type": "code",
   "execution_count": 9,
   "metadata": {
    "scrolled": true
   },
   "outputs": [
    {
     "data": {
      "image/png": "[encoded data removed]",
      "text/plain": [
       "<Figure size 432x288 with 1 Axes>"
      ]
     },
     "metadata": {
      "needs_background": "light"
     },
     "output_type": "display_data"
    }
   ],
   "source": [
    "plt.scatter(transformed[:,0], transformed[:,1])\n",
    "plt.axhline(color='red')\n",
    "plt.axvline(color='red')\n",
    "plt.ylim(-10,10);"
   ]
  },
  {
   "cell_type": "markdown",
   "metadata": {},
   "source": [
    "Again, this is the geographical interpretation of what just happened:  \n",
    "\n",
    "<img src=\"images/inhouse_pca.png\">"
   ]
  },
  {
   "cell_type": "markdown",
   "metadata": {},
   "source": [
    "## Determine the Explained Variance\n",
    "\n",
    "Typically, one would use PCA to actually reduce the number of dimensions. In this case, you've simply re-re-parametrized the dataset along new axes. That said, if you look at the first of these primary axes, you can see the patterns encapsulated by the principal component. Moreover, scikit-learn also lets you quickly determine the overall variance in the dataset accounted for in each of the principal components."
   ]
  },
  {
   "cell_type": "code",
   "execution_count": 10,
   "metadata": {},
   "outputs": [
    {
     "data": {
      "text/plain": [
       "array([9.99717770e-01, 2.82229957e-04])"
      ]
     },
     "execution_count": 10,
     "metadata": {},
     "output_type": "execute_result"
    }
   ],
   "source": [
    "pca.explained_variance_ratio_"
   ]
  },
  {
   "cell_type": "markdown",
   "metadata": {},
   "source": [
    "Keep in mind that these quantities are cumulative: principal component 2 attempts to account for the variance not accounted for in the primary component. You can view the total variance using `np.cumsum()`:"
   ]
  },
  {
   "cell_type": "code",
   "execution_count": 11,
   "metadata": {},
   "outputs": [
    {
     "data": {
      "text/plain": [
       "array([0.99971777, 1.        ])"
      ]
     },
     "execution_count": 11,
     "metadata": {},
     "output_type": "execute_result"
    }
   ],
   "source": [
    "np.cumsum(pca.explained_variance_ratio_)"
   ]
  },
  {
   "cell_type": "markdown",
   "metadata": {},
   "source": [
    "## Visualize the Principal Component\n",
    "\n",
    "To help demonstrate the structure captured by the first principal component, observe the impact of coloring the dataset and then visualizing the first component."
   ]
  },
  {
   "cell_type": "code",
   "execution_count": 12,
   "metadata": {},
   "outputs": [
    {
     "data": {
      "image/png": "[encoded data removed]",
      "text/plain": [
       "<Figure size 432x288 with 1 Axes>"
      ]
     },
     "metadata": {
      "needs_background": "light"
     },
     "output_type": "display_data"
    }
   ],
   "source": [
    "plt.scatter(x1,x2, c=sns.color_palette('RdBu', n_colors=100));"
   ]
  },
  {
   "cell_type": "code",
   "execution_count": 13,
   "metadata": {},
   "outputs": [
    {
     "data": {
      "image/png": "[encoded data removed]",
      "text/plain": [
       "<Figure size 432x288 with 1 Axes>"
      ]
     },
     "metadata": {
      "needs_background": "light"
     },
     "output_type": "display_data"
    }
   ],
   "source": [
    "plt.scatter(transformed[:,0], [0 for i in range(100)] , c=sns.color_palette('RdBu', n_colors=100));"
   ]
  },
  {
   "cell_type": "markdown",
   "metadata": {},
   "source": [
    "## Steps for Performing PCA\n",
    "\n",
    "The theory behind PCA rests upon many foundational concepts of linear algebra. After all, PCA is re-encoding a dataset into an alternative basis (the axes). Here are the exact steps:\n",
    "\n",
    "1. Recenter each feature of the dataset by subtracting that feature's mean from the feature vector\n",
    "2. Calculate the covariance matrix for your centered dataset\n",
    "3. Calculate the eigenvectors of the covariance matrix\n",
    "    1. You'll further investigate the concept of eigenvectors in the upcoming lesson\n",
    "4. Project the dataset into the new feature space: Multiply the eigenvectors by the mean-centered features"
   ]
  },
  {
   "cell_type": "markdown",
   "metadata": {},
   "source": [
    "You can see some of these intermediate steps from the `pca` instance object itself. "
   ]
  },
  {
   "cell_type": "code",
   "execution_count": 14,
   "metadata": {},
   "outputs": [
    {
     "data": {
      "text/plain": [
       "array([7.10542736e-17, 2.61587597e-02])"
      ]
     },
     "execution_count": 14,
     "metadata": {},
     "output_type": "execute_result"
    }
   ],
   "source": [
    "# Pulling up the original feature means which were used to center the data\n",
    "pca.mean_ "
   ]
  },
  {
   "cell_type": "code",
   "execution_count": 15,
   "metadata": {},
   "outputs": [
    {
     "data": {
      "text/plain": [
       "array([[ 34.35023637,  68.62012556],\n",
       "       [ 68.62012556, 137.32181974]])"
      ]
     },
     "execution_count": 15,
     "metadata": {},
     "output_type": "execute_result"
    }
   ],
   "source": [
    "# Pulling up the covariance matrix of the mean centered data\n",
    "pca.get_covariance() "
   ]
  },
  {
   "cell_type": "code",
   "execution_count": 16,
   "metadata": {},
   "outputs": [
    {
     "data": {
      "text/plain": [
       "array([[ 0.44712728,  0.89447035],\n",
       "       [-0.89447035,  0.44712728]])"
      ]
     },
     "execution_count": 16,
     "metadata": {},
     "output_type": "execute_result"
    }
   ],
   "source": [
    "# Pulling up the eigenvectors of the covariance matrix\n",
    "pca.components_ "
   ]
  },
  {
   "cell_type": "markdown",
   "metadata": {},
   "source": [
    "##  Summary\n",
    "In this lesson, you looked at implementing PCA with scikit-learn and the geometric interpretations of principal components. From here, you'll get a chance to practice implementing PCA yourself before going on to code some of the underlying components implemented by scikit-learn using NumPy."
   ]
  }
 ],
 "metadata": {
  "anaconda-cloud": {},
  "kernelspec": {
   "display_name": "Python 3",
   "language": "python",
   "name": "python3"
  },
  "language_info": {
   "codemirror_mode": {
    "name": "ipython",
    "version": 3
   },
   "file_extension": ".py",
   "mimetype": "text/x-python",
   "name": "python",
   "nbconvert_exporter": "python",
   "pygments_lexer": "ipython3",
   "version": "3.6.9"
  }
 },
 "nbformat": 4,
 "nbformat_minor": 1
}
